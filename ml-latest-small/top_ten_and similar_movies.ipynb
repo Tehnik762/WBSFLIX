{
 "cells": [
  {
   "cell_type": "markdown",
   "id": "251725ba-789f-4bee-b035-850330ed0bb9",
   "metadata": {},
   "source": [
    "## Movie Ratings Data Analysis\n",
    "\n",
    "### Introduction\n",
    "The provided Python code facilitates the analysis of movie ratings data using Pandas and joblib libraries. Its aim is to uncover insights regarding movie popularity and similarity based on user ratings.\n",
    "\n",
    "### Data Loading\n",
    "The code begins by loading two essential datasets: **movies.csv**, containing movie details, and **ratings.csv**, containing user ratings. This step serves as the starting point for subsequent analysis.\n",
    "\n",
    "### Popularity Score Calculation\n",
    "Next, the code calculates the popularity score for each movie by aggregating ratings. This score reflects both the frequency of ratings (count) and the average rating received by each movie.\n",
    "\n",
    "### User-Film Matrix Creation\n",
    "A user-film matrix is created using a pivot table, where rows represent users, columns represent movies, and the cells contain corresponding ratings. This matrix forms the basis for further analysis.\n",
    "\n",
    "### Movie Similarity Analysis\n",
    "The code proceeds to analyze movie similarity based on user ratings. It computes a correlation matrix between movies and defines a function to identify similar movies for a given movie ID.\n",
    "\n",
    "### Results Storage\n",
    "Finally, the code saves the results for future reference. It stores a subset of the correlation matrix containing similar movies for each movie, as well as the popularity scores for the top 10 movies.\n",
    "\n",
    "### Conclusion\n",
    "In conclusion, this code enables comprehensive analysis of movie ratings data, including determination of movie popularity and identification of similar movies based on user ratings.\n"
   ]
  },
  {
   "cell_type": "code",
   "execution_count": 1,
   "id": "af7e7b59",
   "metadata": {},
   "outputs": [],
   "source": [
    "import pandas as pd\n",
    "import joblib"
   ]
  },
  {
   "cell_type": "code",
   "execution_count": 2,
   "id": "d9ae4f44",
   "metadata": {},
   "outputs": [],
   "source": [
    "movies = pd.read_csv(\"movies.csv\")"
   ]
  },
  {
   "cell_type": "code",
   "execution_count": 3,
   "id": "2dde3a1b",
   "metadata": {},
   "outputs": [],
   "source": [
    "ratings = pd.read_csv(\"ratings.csv\")"
   ]
  },
  {
   "cell_type": "code",
   "execution_count": 4,
   "id": "3d880f0a",
   "metadata": {},
   "outputs": [
    {
     "data": {
      "text/html": [
       "<div>\n",
       "<style scoped>\n",
       "    .dataframe tbody tr th:only-of-type {\n",
       "        vertical-align: middle;\n",
       "    }\n",
       "\n",
       "    .dataframe tbody tr th {\n",
       "        vertical-align: top;\n",
       "    }\n",
       "\n",
       "    .dataframe thead th {\n",
       "        text-align: right;\n",
       "    }\n",
       "</style>\n",
       "<table border=\"1\" class=\"dataframe\">\n",
       "  <thead>\n",
       "    <tr style=\"text-align: right;\">\n",
       "      <th></th>\n",
       "      <th>movieId</th>\n",
       "      <th>title</th>\n",
       "      <th>genres</th>\n",
       "    </tr>\n",
       "  </thead>\n",
       "  <tbody>\n",
       "    <tr>\n",
       "      <th>2808</th>\n",
       "      <td>3753</td>\n",
       "      <td>Patriot, The (2000)</td>\n",
       "      <td>Action|Drama|War</td>\n",
       "    </tr>\n",
       "    <tr>\n",
       "      <th>584</th>\n",
       "      <td>719</td>\n",
       "      <td>Multiplicity (1996)</td>\n",
       "      <td>Comedy</td>\n",
       "    </tr>\n",
       "    <tr>\n",
       "      <th>1156</th>\n",
       "      <td>1519</td>\n",
       "      <td>Broken English (1996)</td>\n",
       "      <td>Drama</td>\n",
       "    </tr>\n",
       "  </tbody>\n",
       "</table>\n",
       "</div>"
      ],
      "text/plain": [
       "      movieId                  title            genres\n",
       "2808     3753    Patriot, The (2000)  Action|Drama|War\n",
       "584       719    Multiplicity (1996)            Comedy\n",
       "1156     1519  Broken English (1996)             Drama"
      ]
     },
     "execution_count": 4,
     "metadata": {},
     "output_type": "execute_result"
    }
   ],
   "source": [
    "movies.sample(3)"
   ]
  },
  {
   "cell_type": "code",
   "execution_count": 5,
   "id": "17fb6d0b",
   "metadata": {
    "scrolled": true
   },
   "outputs": [
    {
     "data": {
      "text/html": [
       "<div>\n",
       "<style scoped>\n",
       "    .dataframe tbody tr th:only-of-type {\n",
       "        vertical-align: middle;\n",
       "    }\n",
       "\n",
       "    .dataframe tbody tr th {\n",
       "        vertical-align: top;\n",
       "    }\n",
       "\n",
       "    .dataframe thead th {\n",
       "        text-align: right;\n",
       "    }\n",
       "</style>\n",
       "<table border=\"1\" class=\"dataframe\">\n",
       "  <thead>\n",
       "    <tr style=\"text-align: right;\">\n",
       "      <th></th>\n",
       "      <th>userId</th>\n",
       "      <th>movieId</th>\n",
       "      <th>rating</th>\n",
       "      <th>timestamp</th>\n",
       "    </tr>\n",
       "  </thead>\n",
       "  <tbody>\n",
       "    <tr>\n",
       "      <th>71647</th>\n",
       "      <td>462</td>\n",
       "      <td>1288</td>\n",
       "      <td>3.5</td>\n",
       "      <td>1124158003</td>\n",
       "    </tr>\n",
       "    <tr>\n",
       "      <th>55079</th>\n",
       "      <td>365</td>\n",
       "      <td>93510</td>\n",
       "      <td>4.5</td>\n",
       "      <td>1488333289</td>\n",
       "    </tr>\n",
       "    <tr>\n",
       "      <th>21218</th>\n",
       "      <td>140</td>\n",
       "      <td>1214</td>\n",
       "      <td>4.0</td>\n",
       "      <td>1080845712</td>\n",
       "    </tr>\n",
       "  </tbody>\n",
       "</table>\n",
       "</div>"
      ],
      "text/plain": [
       "       userId  movieId  rating   timestamp\n",
       "71647     462     1288     3.5  1124158003\n",
       "55079     365    93510     4.5  1488333289\n",
       "21218     140     1214     4.0  1080845712"
      ]
     },
     "execution_count": 5,
     "metadata": {},
     "output_type": "execute_result"
    }
   ],
   "source": [
    "ratings.sample(3)"
   ]
  },
  {
   "cell_type": "code",
   "execution_count": 6,
   "id": "7d3fedbe",
   "metadata": {},
   "outputs": [
    {
     "data": {
      "text/html": [
       "<div>\n",
       "<style scoped>\n",
       "    .dataframe tbody tr th:only-of-type {\n",
       "        vertical-align: middle;\n",
       "    }\n",
       "\n",
       "    .dataframe tbody tr th {\n",
       "        vertical-align: top;\n",
       "    }\n",
       "\n",
       "    .dataframe thead th {\n",
       "        text-align: right;\n",
       "    }\n",
       "</style>\n",
       "<table border=\"1\" class=\"dataframe\">\n",
       "  <thead>\n",
       "    <tr style=\"text-align: right;\">\n",
       "      <th></th>\n",
       "      <th>movieId</th>\n",
       "      <th>count</th>\n",
       "      <th>mean</th>\n",
       "    </tr>\n",
       "  </thead>\n",
       "  <tbody>\n",
       "    <tr>\n",
       "      <th>7225</th>\n",
       "      <td>73876</td>\n",
       "      <td>1</td>\n",
       "      <td>4.0</td>\n",
       "    </tr>\n",
       "  </tbody>\n",
       "</table>\n",
       "</div>"
      ],
      "text/plain": [
       "      movieId  count  mean\n",
       "7225    73876      1   4.0"
      ]
     },
     "execution_count": 6,
     "metadata": {},
     "output_type": "execute_result"
    }
   ],
   "source": [
    "temp_rating = ratings.groupby(\"movieId\").agg({\"rating\":[\"count\", \"mean\"]}).reset_index()\n",
    "temp_rating.columns = [tup[1] if tup[1] else tup[0] for tup in temp_rating.columns]\n",
    "\n",
    "temp_rating.sample()"
   ]
  },
  {
   "cell_type": "code",
   "execution_count": 7,
   "id": "02493830",
   "metadata": {},
   "outputs": [],
   "source": [
    "mo_rating = movies.merge(temp_rating, how=\"left\", left_on=\"movieId\", right_on=\"movieId\")"
   ]
  },
  {
   "cell_type": "code",
   "execution_count": 8,
   "id": "ae1a80c5",
   "metadata": {},
   "outputs": [],
   "source": [
    "min_count = mo_rating[\"count\"].min()"
   ]
  },
  {
   "cell_type": "code",
   "execution_count": 9,
   "id": "06a450f2",
   "metadata": {},
   "outputs": [],
   "source": [
    "max_count = mo_rating[\"count\"].max()"
   ]
  },
  {
   "cell_type": "code",
   "execution_count": 10,
   "id": "3f55e798",
   "metadata": {},
   "outputs": [],
   "source": [
    "count_all = max_count - min_count"
   ]
  },
  {
   "cell_type": "code",
   "execution_count": 11,
   "id": "ba7ffd6a",
   "metadata": {},
   "outputs": [],
   "source": [
    "mo_rating[\"popscore3\"] = round((mo_rating[\"count\"]-min_count)/count_all*(mo_rating[\"mean\"]**3), 2)"
   ]
  },
  {
   "cell_type": "code",
   "execution_count": 12,
   "id": "c693b4dc",
   "metadata": {
    "scrolled": true
   },
   "outputs": [
    {
     "data": {
      "text/html": [
       "<div>\n",
       "<style scoped>\n",
       "    .dataframe tbody tr th:only-of-type {\n",
       "        vertical-align: middle;\n",
       "    }\n",
       "\n",
       "    .dataframe tbody tr th {\n",
       "        vertical-align: top;\n",
       "    }\n",
       "\n",
       "    .dataframe thead th {\n",
       "        text-align: right;\n",
       "    }\n",
       "</style>\n",
       "<table border=\"1\" class=\"dataframe\">\n",
       "  <thead>\n",
       "    <tr style=\"text-align: right;\">\n",
       "      <th></th>\n",
       "      <th>movieId</th>\n",
       "      <th>title</th>\n",
       "      <th>genres</th>\n",
       "      <th>count</th>\n",
       "      <th>mean</th>\n",
       "      <th>popscore3</th>\n",
       "    </tr>\n",
       "  </thead>\n",
       "  <tbody>\n",
       "    <tr>\n",
       "      <th>277</th>\n",
       "      <td>318</td>\n",
       "      <td>Shawshank Redemption, The (1994)</td>\n",
       "      <td>Crime|Drama</td>\n",
       "      <td>317.0</td>\n",
       "      <td>4.429022</td>\n",
       "      <td>83.70</td>\n",
       "    </tr>\n",
       "    <tr>\n",
       "      <th>314</th>\n",
       "      <td>356</td>\n",
       "      <td>Forrest Gump (1994)</td>\n",
       "      <td>Comedy|Drama|Romance|War</td>\n",
       "      <td>329.0</td>\n",
       "      <td>4.164134</td>\n",
       "      <td>72.21</td>\n",
       "    </tr>\n",
       "    <tr>\n",
       "      <th>257</th>\n",
       "      <td>296</td>\n",
       "      <td>Pulp Fiction (1994)</td>\n",
       "      <td>Comedy|Crime|Drama|Thriller</td>\n",
       "      <td>307.0</td>\n",
       "      <td>4.197068</td>\n",
       "      <td>68.97</td>\n",
       "    </tr>\n",
       "  </tbody>\n",
       "</table>\n",
       "</div>"
      ],
      "text/plain": [
       "     movieId                             title                       genres  \\\n",
       "277      318  Shawshank Redemption, The (1994)                  Crime|Drama   \n",
       "314      356               Forrest Gump (1994)     Comedy|Drama|Romance|War   \n",
       "257      296               Pulp Fiction (1994)  Comedy|Crime|Drama|Thriller   \n",
       "\n",
       "     count      mean  popscore3  \n",
       "277  317.0  4.429022      83.70  \n",
       "314  329.0  4.164134      72.21  \n",
       "257  307.0  4.197068      68.97  "
      ]
     },
     "execution_count": 12,
     "metadata": {},
     "output_type": "execute_result"
    }
   ],
   "source": [
    "mo_rating.sort_values(\"popscore3\", ascending=False).head(3)"
   ]
  },
  {
   "cell_type": "code",
   "execution_count": 13,
   "id": "dda93107",
   "metadata": {},
   "outputs": [],
   "source": [
    "def popularN(n=5):\n",
    "    return mo_rating.sort_values(\"popscore3\", ascending=False).head(n)"
   ]
  },
  {
   "cell_type": "code",
   "execution_count": 14,
   "id": "68ae5e73",
   "metadata": {},
   "outputs": [
    {
     "data": {
      "text/html": [
       "<div>\n",
       "<style scoped>\n",
       "    .dataframe tbody tr th:only-of-type {\n",
       "        vertical-align: middle;\n",
       "    }\n",
       "\n",
       "    .dataframe tbody tr th {\n",
       "        vertical-align: top;\n",
       "    }\n",
       "\n",
       "    .dataframe thead th {\n",
       "        text-align: right;\n",
       "    }\n",
       "</style>\n",
       "<table border=\"1\" class=\"dataframe\">\n",
       "  <thead>\n",
       "    <tr style=\"text-align: right;\">\n",
       "      <th></th>\n",
       "      <th>movieId</th>\n",
       "      <th>title</th>\n",
       "      <th>genres</th>\n",
       "      <th>count</th>\n",
       "      <th>mean</th>\n",
       "      <th>popscore3</th>\n",
       "    </tr>\n",
       "  </thead>\n",
       "  <tbody>\n",
       "    <tr>\n",
       "      <th>277</th>\n",
       "      <td>318</td>\n",
       "      <td>Shawshank Redemption, The (1994)</td>\n",
       "      <td>Crime|Drama</td>\n",
       "      <td>317.0</td>\n",
       "      <td>4.429022</td>\n",
       "      <td>83.70</td>\n",
       "    </tr>\n",
       "    <tr>\n",
       "      <th>314</th>\n",
       "      <td>356</td>\n",
       "      <td>Forrest Gump (1994)</td>\n",
       "      <td>Comedy|Drama|Romance|War</td>\n",
       "      <td>329.0</td>\n",
       "      <td>4.164134</td>\n",
       "      <td>72.21</td>\n",
       "    </tr>\n",
       "    <tr>\n",
       "      <th>257</th>\n",
       "      <td>296</td>\n",
       "      <td>Pulp Fiction (1994)</td>\n",
       "      <td>Comedy|Crime|Drama|Thriller</td>\n",
       "      <td>307.0</td>\n",
       "      <td>4.197068</td>\n",
       "      <td>68.97</td>\n",
       "    </tr>\n",
       "  </tbody>\n",
       "</table>\n",
       "</div>"
      ],
      "text/plain": [
       "     movieId                             title                       genres  \\\n",
       "277      318  Shawshank Redemption, The (1994)                  Crime|Drama   \n",
       "314      356               Forrest Gump (1994)     Comedy|Drama|Romance|War   \n",
       "257      296               Pulp Fiction (1994)  Comedy|Crime|Drama|Thriller   \n",
       "\n",
       "     count      mean  popscore3  \n",
       "277  317.0  4.429022      83.70  \n",
       "314  329.0  4.164134      72.21  \n",
       "257  307.0  4.197068      68.97  "
      ]
     },
     "execution_count": 14,
     "metadata": {},
     "output_type": "execute_result"
    }
   ],
   "source": [
    "popularN(3)"
   ]
  },
  {
   "cell_type": "code",
   "execution_count": 15,
   "id": "054f489a",
   "metadata": {},
   "outputs": [],
   "source": [
    "user_film_matrix = pd.pivot_table(data=ratings,\n",
    "                                  values='rating',\n",
    "                                  index='userId',\n",
    "                                  columns='movieId',\n",
    "                                  fill_value=0)"
   ]
  },
  {
   "cell_type": "code",
   "execution_count": 16,
   "id": "4c55239b",
   "metadata": {},
   "outputs": [
    {
     "name": "stdout",
     "output_type": "stream",
     "text": [
      "CPU times: user 2min 41s, sys: 1.58 s, total: 2min 42s\n",
      "Wall time: 2min 48s\n"
     ]
    }
   ],
   "source": [
    "%%time\n",
    "film_correlations_matrix = user_film_matrix.corr()"
   ]
  },
  {
   "cell_type": "code",
   "execution_count": 17,
   "id": "aa2d83f2",
   "metadata": {},
   "outputs": [],
   "source": [
    "def getSimilar(mid, n=10, matrix=film_correlations_matrix, thr = 10):\n",
    "    film_df = pd.DataFrame(matrix[mid])\n",
    "\n",
    "    film_df = film_df[film_df.index != mid]\n",
    "    \n",
    "    film_df = film_df.sort_values(mid, ascending=False)\n",
    "\n",
    "    no_of_users_rated_both_films = [sum((matrix[mid] > 0) & (matrix[mid2] > 0)) for mid2 in film_df.index]\n",
    "\n",
    "    film_df['users_who_rated_both_films'] = no_of_users_rated_both_films\n",
    "\n",
    "    film_df = film_df[film_df[\"users_who_rated_both_films\"] > thr]\n",
    "\n",
    "    film_df = film_df.reset_index()\n",
    "    film_df = film_df.drop(columns=[\"users_who_rated_both_films\"])\n",
    "    \n",
    "    film_df = film_df.merge(movies, how=\"left\", on=\"movieId\")\n",
    "    return film_df.head(n)   "
   ]
  },
  {
   "cell_type": "code",
   "execution_count": 18,
   "id": "1a90883b",
   "metadata": {},
   "outputs": [
    {
     "name": "stdout",
     "output_type": "stream",
     "text": [
      "CPU times: user 6.54 s, sys: 456 ms, total: 7 s\n",
      "Wall time: 7.37 s\n"
     ]
    },
    {
     "data": {
      "text/html": [
       "<div>\n",
       "<style scoped>\n",
       "    .dataframe tbody tr th:only-of-type {\n",
       "        vertical-align: middle;\n",
       "    }\n",
       "\n",
       "    .dataframe tbody tr th {\n",
       "        vertical-align: top;\n",
       "    }\n",
       "\n",
       "    .dataframe thead th {\n",
       "        text-align: right;\n",
       "    }\n",
       "</style>\n",
       "<table border=\"1\" class=\"dataframe\">\n",
       "  <thead>\n",
       "    <tr style=\"text-align: right;\">\n",
       "      <th></th>\n",
       "      <th>movieId</th>\n",
       "      <th>5816</th>\n",
       "      <th>title</th>\n",
       "      <th>genres</th>\n",
       "    </tr>\n",
       "  </thead>\n",
       "  <tbody>\n",
       "    <tr>\n",
       "      <th>0</th>\n",
       "      <td>4896</td>\n",
       "      <td>0.736992</td>\n",
       "      <td>Harry Potter and the Sorcerer's Stone (a.k.a. ...</td>\n",
       "      <td>Adventure|Children|Fantasy</td>\n",
       "    </tr>\n",
       "    <tr>\n",
       "      <th>1</th>\n",
       "      <td>8368</td>\n",
       "      <td>0.727898</td>\n",
       "      <td>Harry Potter and the Prisoner of Azkaban (2004)</td>\n",
       "      <td>Adventure|Fantasy|IMAX</td>\n",
       "    </tr>\n",
       "    <tr>\n",
       "      <th>2</th>\n",
       "      <td>40815</td>\n",
       "      <td>0.673761</td>\n",
       "      <td>Harry Potter and the Goblet of Fire (2005)</td>\n",
       "      <td>Adventure|Fantasy|Thriller|IMAX</td>\n",
       "    </tr>\n",
       "    <tr>\n",
       "      <th>3</th>\n",
       "      <td>54001</td>\n",
       "      <td>0.630222</td>\n",
       "      <td>Harry Potter and the Order of the Phoenix (2007)</td>\n",
       "      <td>Adventure|Drama|Fantasy|IMAX</td>\n",
       "    </tr>\n",
       "    <tr>\n",
       "      <th>4</th>\n",
       "      <td>45722</td>\n",
       "      <td>0.524330</td>\n",
       "      <td>Pirates of the Caribbean: Dead Man's Chest (2006)</td>\n",
       "      <td>Action|Adventure|Fantasy</td>\n",
       "    </tr>\n",
       "    <tr>\n",
       "      <th>5</th>\n",
       "      <td>69844</td>\n",
       "      <td>0.518326</td>\n",
       "      <td>Harry Potter and the Half-Blood Prince (2009)</td>\n",
       "      <td>Adventure|Fantasy|Mystery|Romance|IMAX</td>\n",
       "    </tr>\n",
       "    <tr>\n",
       "      <th>6</th>\n",
       "      <td>41566</td>\n",
       "      <td>0.508577</td>\n",
       "      <td>Chronicles of Narnia: The Lion, the Witch and ...</td>\n",
       "      <td>Adventure|Children|Fantasy</td>\n",
       "    </tr>\n",
       "    <tr>\n",
       "      <th>7</th>\n",
       "      <td>88125</td>\n",
       "      <td>0.497847</td>\n",
       "      <td>Harry Potter and the Deathly Hallows: Part 2 (...</td>\n",
       "      <td>Action|Adventure|Drama|Fantasy|Mystery|IMAX</td>\n",
       "    </tr>\n",
       "    <tr>\n",
       "      <th>8</th>\n",
       "      <td>5349</td>\n",
       "      <td>0.496195</td>\n",
       "      <td>Spider-Man (2002)</td>\n",
       "      <td>Action|Adventure|Sci-Fi|Thriller</td>\n",
       "    </tr>\n",
       "    <tr>\n",
       "      <th>9</th>\n",
       "      <td>6539</td>\n",
       "      <td>0.482160</td>\n",
       "      <td>Pirates of the Caribbean: The Curse of the Bla...</td>\n",
       "      <td>Action|Adventure|Comedy|Fantasy</td>\n",
       "    </tr>\n",
       "  </tbody>\n",
       "</table>\n",
       "</div>"
      ],
      "text/plain": [
       "   movieId      5816                                              title  \\\n",
       "0     4896  0.736992  Harry Potter and the Sorcerer's Stone (a.k.a. ...   \n",
       "1     8368  0.727898    Harry Potter and the Prisoner of Azkaban (2004)   \n",
       "2    40815  0.673761         Harry Potter and the Goblet of Fire (2005)   \n",
       "3    54001  0.630222   Harry Potter and the Order of the Phoenix (2007)   \n",
       "4    45722  0.524330  Pirates of the Caribbean: Dead Man's Chest (2006)   \n",
       "5    69844  0.518326      Harry Potter and the Half-Blood Prince (2009)   \n",
       "6    41566  0.508577  Chronicles of Narnia: The Lion, the Witch and ...   \n",
       "7    88125  0.497847  Harry Potter and the Deathly Hallows: Part 2 (...   \n",
       "8     5349  0.496195                                  Spider-Man (2002)   \n",
       "9     6539  0.482160  Pirates of the Caribbean: The Curse of the Bla...   \n",
       "\n",
       "                                        genres  \n",
       "0                   Adventure|Children|Fantasy  \n",
       "1                       Adventure|Fantasy|IMAX  \n",
       "2              Adventure|Fantasy|Thriller|IMAX  \n",
       "3                 Adventure|Drama|Fantasy|IMAX  \n",
       "4                     Action|Adventure|Fantasy  \n",
       "5       Adventure|Fantasy|Mystery|Romance|IMAX  \n",
       "6                   Adventure|Children|Fantasy  \n",
       "7  Action|Adventure|Drama|Fantasy|Mystery|IMAX  \n",
       "8             Action|Adventure|Sci-Fi|Thriller  \n",
       "9              Action|Adventure|Comedy|Fantasy  "
      ]
     },
     "execution_count": 18,
     "metadata": {},
     "output_type": "execute_result"
    }
   ],
   "source": [
    "%%time\n",
    "getSimilar(5816, thr=100)"
   ]
  },
  {
   "cell_type": "code",
   "execution_count": 19,
   "id": "bf4a533a",
   "metadata": {},
   "outputs": [],
   "source": [
    "test_m = film_correlations_matrix.copy()"
   ]
  },
  {
   "cell_type": "code",
   "execution_count": 20,
   "id": "ecdd362f",
   "metadata": {},
   "outputs": [
    {
     "name": "stdout",
     "output_type": "stream",
     "text": [
      "CPU times: user 8.69 s, sys: 1 s, total: 9.69 s\n",
      "Wall time: 10.1 s\n"
     ]
    }
   ],
   "source": [
    "%%time\n",
    "matrix_in_list = {}\n",
    "for step in test_m.columns:\n",
    "    temp = test_m[step].sort_values(ascending=False).index[1:11]\n",
    "    matrix_in_list[step] = temp[1:11]\n"
   ]
  },
  {
   "cell_type": "markdown",
   "id": "fcd49443-b9a5-47e9-96d5-c152a9af4868",
   "metadata": {},
   "source": [
    "### Saving the data"
   ]
  },
  {
   "cell_type": "code",
   "execution_count": 21,
   "id": "2d6e0fc9",
   "metadata": {},
   "outputs": [
    {
     "data": {
      "text/plain": [
       "['matrix10']"
      ]
     },
     "execution_count": 21,
     "metadata": {},
     "output_type": "execute_result"
    }
   ],
   "source": [
    "joblib.dump(matrix_in_list, \"matrix10\")"
   ]
  },
  {
   "cell_type": "code",
   "execution_count": 22,
   "id": "9edcecab",
   "metadata": {},
   "outputs": [],
   "source": [
    "ten = popularN(10)[[\"title\", \"movieId\", \"popscore3\"]]"
   ]
  },
  {
   "cell_type": "code",
   "execution_count": 23,
   "id": "6b482235",
   "metadata": {},
   "outputs": [],
   "source": [
    "ten = ten.rename(columns={\"title\":\"Movie\", \"popscore3\":\"Rating\"})"
   ]
  },
  {
   "cell_type": "code",
   "execution_count": 24,
   "id": "d0b8f783",
   "metadata": {},
   "outputs": [
    {
     "data": {
      "text/plain": [
       "['ten']"
      ]
     },
     "execution_count": 24,
     "metadata": {},
     "output_type": "execute_result"
    }
   ],
   "source": [
    "joblib.dump(ten, \"ten\")"
   ]
  },
  {
   "cell_type": "code",
   "execution_count": null,
   "id": "b9b6b9fa",
   "metadata": {},
   "outputs": [],
   "source": []
  },
  {
   "cell_type": "code",
   "execution_count": null,
   "id": "a6db723e",
   "metadata": {},
   "outputs": [],
   "source": []
  }
 ],
 "metadata": {
  "kernelspec": {
   "display_name": "Python 3 (ipykernel)",
   "language": "python",
   "name": "python3"
  },
  "language_info": {
   "codemirror_mode": {
    "name": "ipython",
    "version": 3
   },
   "file_extension": ".py",
   "mimetype": "text/x-python",
   "name": "python",
   "nbconvert_exporter": "python",
   "pygments_lexer": "ipython3",
   "version": "3.11.7"
  }
 },
 "nbformat": 4,
 "nbformat_minor": 5
}
